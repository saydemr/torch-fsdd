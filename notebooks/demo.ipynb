{
 "cells": [
  {
   "cell_type": "code",
   "execution_count": 1,
   "metadata": {},
   "outputs": [],
   "source": [
    "import torch\n",
    "from torch import utils, nn, optim\n",
    "from torchfsdd import TorchFSDDGenerator, TrimSilence\n",
    "from torchaudio.transforms import MFCC\n",
    "from torchvision.transforms import Compose\n",
    "\n",
    "from model import DeepGRU\n",
    "\n",
    "from tqdm.auto import tqdm\n",
    "import matplotlib.pyplot as plt, numpy as np"
   ]
  },
  {
   "cell_type": "code",
   "execution_count": 2,
   "metadata": {},
   "outputs": [],
   "source": [
    "# Set number of features and classes\n",
    "n_mfcc = 13\n",
    "n_digits = 10"
   ]
  },
  {
   "cell_type": "code",
   "execution_count": 3,
   "metadata": {},
   "outputs": [],
   "source": [
    "# Specify transformations to be applied to the raw audio\n",
    "transforms = Compose([\n",
    "    # Trim silence from the start and end of the audio\n",
    "    TrimSilence(threshold=1e-6),\n",
    "    # Generate 13+1 MFCCs (and remove the first one since it is a constant offset)\n",
    "    lambda audio: MFCC(sample_rate=8e3, n_mfcc=n_mfcc+1)(audio)[1:, :],\n",
    "    # Standardize MFCCs for each frame\n",
    "    lambda mfcc: (mfcc - mfcc.mean(axis=0)) / mfcc.std(axis=0),\n",
    "    # Transpose from DxT to TxD\n",
    "    lambda mfcc: mfcc.transpose(1, 0)\n",
    "])\n",
    "\n",
    "# Initialize a generator for a local version of FSDD\n",
    "fsdd = TorchFSDDGenerator(version='local', path='../src/test/data/v1.0.10/', transforms=transforms)\n",
    "\n",
    "# Create two Torch datasets for a train-test split from the generator\n",
    "train_set, val_set, test_set = fsdd.train_val_test_split(test_size=0.15, val_size=0.15)"
   ]
  },
  {
   "cell_type": "code",
   "execution_count": 4,
   "metadata": {},
   "outputs": [
    {
     "data": {
      "image/png": "[encoded data removed]",
      "text/plain": [
       "<Figure size 576x288 with 1 Axes>"
      ]
     },
     "metadata": {
      "needs_background": "light"
     },
     "output_type": "display_data"
    }
   ],
   "source": [
    "mfcc, digit = train_set[0]\n",
    "fig, ax = plt.subplots(figsize=(8, 4))\n",
    "cax = ax.imshow(np.swapaxes(mfcc, 0, 1), interpolation='nearest', cmap='viridis', origin='lower', aspect='auto')\n",
    "ax.set(title='MFCCs for sample digit {}'.format(digit), xlabel='Frame', ylabel='MFCC')\n",
    "plt.show()"
   ]
  },
  {
   "cell_type": "code",
   "execution_count": 5,
   "metadata": {},
   "outputs": [],
   "source": [
    "def collate_fn(batch):\n",
    "    \"\"\"Collects together sequences into a single batch, arranged in descending length order.\"\"\"\n",
    "    batch_size = len(batch)\n",
    "\n",
    "    # Sort the (sequence, label) pairs in descending order of duration\n",
    "    batch.sort(key=(lambda x: len(x[0])), reverse=True)\n",
    "    # Shape: list(tuple(tensor(TxD), int))\n",
    "\n",
    "    # Create list of sequences, and tensors for lengths and labels\n",
    "    sequences, lengths, labels = [], torch.zeros(batch_size, dtype=torch.long), torch.zeros(batch_size, dtype=torch.long)\n",
    "    for i, (sequence, label) in enumerate(batch):\n",
    "        lengths[i], labels[i] = len(sequence), label\n",
    "        sequences.append(sequence)\n",
    "\n",
    "    # Combine sequences into a padded matrix\n",
    "    padded_sequences = torch.nn.utils.rnn.pad_sequence(sequences, batch_first=True)\n",
    "    # Shape: (B x T_max x D)\n",
    "\n",
    "    return padded_sequences, lengths, labels\n",
    "    # Shapes: (B x T_max x D), (B,), (B,)"
   ]
  },
  {
   "cell_type": "code",
   "execution_count": 6,
   "metadata": {},
   "outputs": [],
   "source": [
    "# Create training, validation and test set batch iterators\n",
    "train_gen = utils.data.DataLoader(train_set, collate_fn=collate_fn, batch_size=64, shuffle=True, num_workers=0)\n",
    "val_gen = utils.data.DataLoader(val_set, collate_fn=collate_fn, batch_size=64, shuffle=True, num_workers=0)\n",
    "test_gen = utils.data.DataLoader(test_set, collate_fn=collate_fn, batch_size=len(test_set), num_workers=0)"
   ]
  },
  {
   "cell_type": "code",
   "execution_count": 7,
   "metadata": {},
   "outputs": [],
   "source": [
    "# Create a DeepGRU neural network model\n",
    "model = DeepGRU(n_mfcc, n_digits)\n",
    "\n",
    "# Set loss function and optimizer\n",
    "criterion = nn.NLLLoss()\n",
    "optimizer = optim.Adam(model.parameters(), lr=0.002)"
   ]
  },
  {
   "cell_type": "code",
   "execution_count": 8,
   "metadata": {},
   "outputs": [
    {
     "data": {
      "application/vnd.jupyter.widget-view+json": {
       "model_id": "a59de028ad534a0d866d21323b219039",
       "version_major": 2,
       "version_minor": 0
      },
      "text/plain": [
       "Epoch:   0%|          | 0/3 [00:00<?, ?it/s]"
      ]
     },
     "metadata": {},
     "output_type": "display_data"
    },
    {
     "data": {
      "application/vnd.jupyter.widget-view+json": {
       "model_id": "",
       "version_major": 2,
       "version_minor": 0
      },
      "text/plain": [
       "Training batch:   0%|          | 0/34 [00:00<?, ?it/s]"
      ]
     },
     "metadata": {},
     "output_type": "display_data"
    },
    {
     "data": {
      "application/vnd.jupyter.widget-view+json": {
       "model_id": "",
       "version_major": 2,
       "version_minor": 0
      },
      "text/plain": [
       "Validation batch:   0%|          | 0/7 [00:00<?, ?it/s]"
      ]
     },
     "metadata": {},
     "output_type": "display_data"
    },
    {
     "data": {
      "application/vnd.jupyter.widget-view+json": {
       "model_id": "",
       "version_major": 2,
       "version_minor": 0
      },
      "text/plain": [
       "Training batch:   0%|          | 0/34 [00:00<?, ?it/s]"
      ]
     },
     "metadata": {},
     "output_type": "display_data"
    },
    {
     "data": {
      "application/vnd.jupyter.widget-view+json": {
       "model_id": "",
       "version_major": 2,
       "version_minor": 0
      },
      "text/plain": [
       "Validation batch:   0%|          | 0/7 [00:00<?, ?it/s]"
      ]
     },
     "metadata": {},
     "output_type": "display_data"
    },
    {
     "data": {
      "application/vnd.jupyter.widget-view+json": {
       "model_id": "",
       "version_major": 2,
       "version_minor": 0
      },
      "text/plain": [
       "Training batch:   0%|          | 0/34 [00:00<?, ?it/s]"
      ]
     },
     "metadata": {},
     "output_type": "display_data"
    },
    {
     "data": {
      "application/vnd.jupyter.widget-view+json": {
       "model_id": "",
       "version_major": 2,
       "version_minor": 0
      },
      "text/plain": [
       "Validation batch:   0%|          | 0/7 [00:00<?, ?it/s]"
      ]
     },
     "metadata": {},
     "output_type": "display_data"
    }
   ],
   "source": [
    "for epoch in tqdm(range(3), desc='Epoch'):\n",
    "    # Training loop\n",
    "    model.train()\n",
    "    for batch, lengths, labels in tqdm(train_gen, desc='Training batch', leave=False):\n",
    "        # Reset the optimizer\n",
    "        optimizer.zero_grad()\n",
    "        # Calculate predictions for batch\n",
    "        log_prob = model(batch, lengths)\n",
    "        y_pred = torch.argmax(log_prob, dim=1)\n",
    "        # Calculate and back-propagate loss\n",
    "        loss = criterion(log_prob, labels)\n",
    "        loss.backward()\n",
    "        # Update the optimizer\n",
    "        optimizer.step()\n",
    "\n",
    "    # Validation loop\n",
    "    model.eval()\n",
    "    with torch.no_grad():\n",
    "        for batch, lengths, labels in tqdm(val_gen, desc='Validation batch', leave=False):\n",
    "            # Calculate predictions for batch\n",
    "            log_prob = model(batch, lengths)\n",
    "            y_pred = torch.argmax(log_prob, dim=1)\n",
    "            # Calculate loss\n",
    "            loss = criterion(log_prob, labels)"
   ]
  },
  {
   "cell_type": "code",
   "execution_count": 9,
   "metadata": {},
   "outputs": [
    {
     "data": {
      "text/plain": [
       "tensor(0.8548)"
      ]
     },
     "execution_count": 9,
     "metadata": {},
     "output_type": "execute_result"
    }
   ],
   "source": [
    "# Toggle evaluation mode\n",
    "model.eval()\n",
    "\n",
    "# Retrieve test set as a single batch\n",
    "batch, lengths, labels = next(iter(test_gen))\n",
    "\n",
    "# Calculate predictions for test set\n",
    "y = model(batch, lengths)\n",
    "y_pred = torch.argmax(y, dim=1)\n",
    "\n",
    "# Calculate accuracy\n",
    "torch.mean((labels == y_pred).float())"
   ]
  }
 ],
 "metadata": {
  "kernelspec": {
   "display_name": "Python 3",
   "language": "python",
   "name": "python3"
  },
  "language_info": {
   "codemirror_mode": {
    "name": "ipython",
    "version": 3
   },
   "file_extension": ".py",
   "mimetype": "text/x-python",
   "name": "python",
   "nbconvert_exporter": "python",
   "pygments_lexer": "ipython3",
   "version": "3.6.13"
  }
 },
 "nbformat": 4,
 "nbformat_minor": 2
}
